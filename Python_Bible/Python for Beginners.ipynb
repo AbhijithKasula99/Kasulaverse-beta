{
 "cells": [
  {
   "cell_type": "markdown",
   "id": "4a8a70c7",
   "metadata": {},
   "source": [
    "# Python for Beginners "
   ]
  },
  {
   "cell_type": "markdown",
   "id": "f08b964e",
   "metadata": {},
   "source": [
    "### Basic print and comment "
   ]
  },
  {
   "cell_type": "code",
   "execution_count": 1,
   "id": "8e3f1c9f",
   "metadata": {},
   "outputs": [
    {
     "name": "stdout",
     "output_type": "stream",
     "text": [
      "I am revising python from scratch again\n"
     ]
    }
   ],
   "source": [
    "# Printing the first line of code\n",
    "print(\"I am revising python from scratch again\")\n",
    "\n",
    "# Print is an inbuilt function that is used to print whatever is stored in brackets"
   ]
  },
  {
   "cell_type": "code",
   "execution_count": 5,
   "id": "e4aa1bf1",
   "metadata": {},
   "outputs": [],
   "source": [
    "# Has is used to comment and anything after hash won't be compiled or executed"
   ]
  },
  {
   "cell_type": "code",
   "execution_count": 8,
   "id": "ff0f4d82",
   "metadata": {},
   "outputs": [
    {
     "data": {
      "text/plain": [
       "' If you have something long that can\\nfill in multiple lines so\\nby using a pair of these ()\\nwe can write a multi-line comment '"
      ]
     },
     "execution_count": 8,
     "metadata": {},
     "output_type": "execute_result"
    }
   ],
   "source": [
    "''' If you have something long that can\n",
    "fill in multiple lines so\n",
    "by using a pair of these ('''  ''')\n",
    "we can write a multi-line comment '''"
   ]
  },
  {
   "cell_type": "markdown",
   "id": "1c659add",
   "metadata": {},
   "source": [
    "### Variables and Data Types "
   ]
  },
  {
   "cell_type": "code",
   "execution_count": 10,
   "id": "61a2ccf6",
   "metadata": {},
   "outputs": [],
   "source": [
    "# Variables are just placeholders for values, programmers use them to store values not only numbers but whole objects too\n",
    "\n",
    "# There are various data types \n",
    "# 1. Numerical: Integer, Float and Complex\n",
    "# 2. Strings: This is used to store a sequence of characters basically some texts \n",
    "# 3. Booleans: True or False\n",
    "# 4. Sequences: List, Tuple and Dictionaries"
   ]
  },
  {
   "cell_type": "code",
   "execution_count": 11,
   "id": "0454aa6c",
   "metadata": {},
   "outputs": [],
   "source": [
    "# Integer can be called using keyword 'int' and can store whole numbers.\n",
    "# Float can be called using keyword 'float' and can store floating point numbers.\n",
    "# Complex can be called using 'complex' and can store a complex number."
   ]
  },
  {
   "cell_type": "code",
   "execution_count": 12,
   "id": "46f18b03",
   "metadata": {},
   "outputs": [],
   "source": [
    "# The keyword for strings is 'str' and the text must be stored in quotation marks ''.\n",
    "# Booleans are the simple data types in python, it can only have one of two values 'true' or 'false'."
   ]
  },
  {
   "cell_type": "code",
   "execution_count": 13,
   "id": "c2c4a121",
   "metadata": {},
   "outputs": [],
   "source": [
    "# There are three types of sequences \n",
    "\n",
    "# 1. List can be called using keyword 'list' and can store a collection of values.\n",
    "# 2. Tuple can be called using keyword 'tuple' and can be a immutable list.\n",
    "# 3. Dictionary can be called using 'dict' and can be used to store a list of key-value pairs."
   ]
  },
  {
   "cell_type": "markdown",
   "id": "b87341c9-1c84-4194-b225-8ec9fce05b5e",
   "metadata": {},
   "source": [
    "### Creating Variables and using them"
   ]
  },
  {
   "cell_type": "code",
   "execution_count": 3,
   "id": "91345f12-8054-43ca-a98b-bd30ad4ba444",
   "metadata": {},
   "outputs": [
    {
     "name": "stdout",
     "output_type": "stream",
     "text": [
      "10\n",
      "Hello\n"
     ]
    }
   ],
   "source": [
    "# Creating variables\n",
    "myNumber = 10\n",
    "myText = \"Hello\"\n",
    "\n",
    "# Using variables\n",
    "print(myNumber)\n",
    "print(myText)"
   ]
  },
  {
   "cell_type": "code",
   "execution_count": 8,
   "id": "2ad40d1b-aea4-49ee-befc-daaef1eb0b6d",
   "metadata": {},
   "outputs": [
    {
     "name": "stdout",
     "output_type": "stream",
     "text": [
      "<class 'str'>\n",
      "<class 'int'>\n"
     ]
    }
   ],
   "source": [
    "# Typecasting\n",
    "# This is the concept of converting a variable of one datatype to another datatype to make it usable is called typecasting.\n",
    "\n",
    "value = \"10\"\n",
    "number = int(value)\n",
    "print(type(value))\n",
    "print(type(number))"
   ]
  },
  {
   "cell_type": "markdown",
   "id": "38bd9aa1-5101-4935-b1d8-aeb3cb94d769",
   "metadata": {},
   "source": [
    "## Operators "
   ]
  },
  {
   "cell_type": "code",
   "execution_count": 9,
   "id": "251d5b0c-725b-434d-89f5-c77044ae1dea",
   "metadata": {},
   "outputs": [],
   "source": [
    "# Operators are generally used to manage variables and perform operations on them. There are many types of operators that are used to perform operations:\n",
    "# 1. Arithmetic Operators\n",
    "# 2. Assignment Operators\n",
    "# 3. Comparison Operators\n",
    "# 4. Logical Operators\n",
    "# 5. Other Operators"
   ]
  },
  {
   "cell_type": "markdown",
   "id": "413b525a-e002-42b5-994c-39fab1e91234",
   "metadata": {},
   "source": [
    "### Arithmetic Operators "
   ]
  },
  {
   "cell_type": "code",
   "execution_count": 11,
   "id": "4b52ba4e-7fb1-4ed4-a570-ea65b55d6b08",
   "metadata": {},
   "outputs": [
    {
     "data": {
      "text/plain": [
       "5"
      ]
     },
     "execution_count": 11,
     "metadata": {},
     "output_type": "execute_result"
    }
   ],
   "source": [
    "2 + 3 # Addition"
   ]
  },
  {
   "cell_type": "code",
   "execution_count": 12,
   "id": "164c94af-ec03-4376-aa2c-e74fc1c1a1ee",
   "metadata": {},
   "outputs": [
    {
     "data": {
      "text/plain": [
       "5"
      ]
     },
     "execution_count": 12,
     "metadata": {},
     "output_type": "execute_result"
    }
   ],
   "source": [
    "7 - 2 # Subtraction"
   ]
  },
  {
   "cell_type": "code",
   "execution_count": 13,
   "id": "043f1b43-fa22-476e-9f3a-97ef448a424b",
   "metadata": {},
   "outputs": [
    {
     "data": {
      "text/plain": [
       "56"
      ]
     },
     "execution_count": 13,
     "metadata": {},
     "output_type": "execute_result"
    }
   ],
   "source": [
    "8 * 7 # Multiplication"
   ]
  },
  {
   "cell_type": "code",
   "execution_count": 14,
   "id": "f7438379-1388-4227-8d02-02bc5f9c25f0",
   "metadata": {},
   "outputs": [
    {
     "data": {
      "text/plain": [
       "3.0"
      ]
     },
     "execution_count": 14,
     "metadata": {},
     "output_type": "execute_result"
    }
   ],
   "source": [
    "9 / 3 # Division"
   ]
  },
  {
   "cell_type": "code",
   "execution_count": 15,
   "id": "0faa8035-1ddd-4eb4-9128-dee1620d6e39",
   "metadata": {},
   "outputs": [
    {
     "data": {
      "text/plain": [
       "1"
      ]
     },
     "execution_count": 15,
     "metadata": {},
     "output_type": "execute_result"
    }
   ],
   "source": [
    "5 % 2 # Modulus"
   ]
  },
  {
   "cell_type": "code",
   "execution_count": 16,
   "id": "8c1f8aeb-a4d3-49c9-9f97-dc93eaedf763",
   "metadata": {},
   "outputs": [
    {
     "data": {
      "text/plain": [
       "16"
      ]
     },
     "execution_count": 16,
     "metadata": {},
     "output_type": "execute_result"
    }
   ],
   "source": [
    "2 ** 4 # Exponent"
   ]
  },
  {
   "cell_type": "code",
   "execution_count": 17,
   "id": "3a9ea3e0-d50c-4af7-8d4a-c38486aa8ff6",
   "metadata": {},
   "outputs": [
    {
     "data": {
      "text/plain": [
       "4"
      ]
     },
     "execution_count": 17,
     "metadata": {},
     "output_type": "execute_result"
    }
   ],
   "source": [
    "18 // 4 # Rounds off decimals"
   ]
  },
  {
   "cell_type": "markdown",
   "id": "659c520f-316e-48b3-a51c-060bf0b02ac4",
   "metadata": {},
   "source": [
    "### Assignment Operators "
   ]
  },
  {
   "cell_type": "code",
   "execution_count": 24,
   "id": "983a2855-5ca7-47de-a256-505c4de1e627",
   "metadata": {},
   "outputs": [
    {
     "data": {
      "text/plain": [
       "10"
      ]
     },
     "execution_count": 24,
     "metadata": {},
     "output_type": "execute_result"
    }
   ],
   "source": [
    "a = 10 # Assigning a value to a variable\n",
    "a"
   ]
  },
  {
   "cell_type": "code",
   "execution_count": 25,
   "id": "ffd01002-7c7c-4e38-9f2b-8553890a7e10",
   "metadata": {},
   "outputs": [
    {
     "data": {
      "text/plain": [
       "20"
      ]
     },
     "execution_count": 25,
     "metadata": {},
     "output_type": "execute_result"
    }
   ],
   "source": [
    "a += 10 # This is the same as a = a + 10\n",
    "a"
   ]
  },
  {
   "cell_type": "code",
   "execution_count": 26,
   "id": "86a4aee9-2037-4bc0-8c84-262d5a7eec58",
   "metadata": {},
   "outputs": [
    {
     "data": {
      "text/plain": [
       "10"
      ]
     },
     "execution_count": 26,
     "metadata": {},
     "output_type": "execute_result"
    }
   ],
   "source": [
    "a -= 10 # This is the same as a = a - 10\n",
    "a"
   ]
  },
  {
   "cell_type": "code",
   "execution_count": 27,
   "id": "ebf3d0b5-241f-407c-8138-d881280f81be",
   "metadata": {},
   "outputs": [
    {
     "data": {
      "text/plain": [
       "100"
      ]
     },
     "execution_count": 27,
     "metadata": {},
     "output_type": "execute_result"
    }
   ],
   "source": [
    "a *= 10 # value of a is multiplied by 10 a = a * 10\n",
    "a"
   ]
  },
  {
   "cell_type": "code",
   "execution_count": 28,
   "id": "18d89411-beba-430f-97cd-1e649933e6a5",
   "metadata": {},
   "outputs": [
    {
     "data": {
      "text/plain": [
       "10.0"
      ]
     },
     "execution_count": 28,
     "metadata": {},
     "output_type": "execute_result"
    }
   ],
   "source": [
    "a /= 10 # value of a is divided by 10 a = a /10\n",
    "a"
   ]
  },
  {
   "cell_type": "code",
   "execution_count": 29,
   "id": "d867a8b4-0d22-4834-b4c8-f05be0416315",
   "metadata": {},
   "outputs": [
    {
     "data": {
      "text/plain": [
       "0.0"
      ]
     },
     "execution_count": 29,
     "metadata": {},
     "output_type": "execute_result"
    }
   ],
   "source": [
    "a %= 2 # Remainder of a divided by 2 is assigned to a\n",
    "a"
   ]
  },
  {
   "cell_type": "code",
   "execution_count": 31,
   "id": "c9bff56f-46e0-44e6-9dbb-20982ae7cd2c",
   "metadata": {},
   "outputs": [
    {
     "data": {
      "text/plain": [
       "100"
      ]
     },
     "execution_count": 31,
     "metadata": {},
     "output_type": "execute_result"
    }
   ],
   "source": [
    "a = 10\n",
    "a **= 2 # a is the base and the exponent value is 2 so the value of a is squared\n",
    "a"
   ]
  },
  {
   "cell_type": "code",
   "execution_count": 32,
   "id": "4716a6d8-abaa-45f2-badb-859e7e005a0d",
   "metadata": {},
   "outputs": [
    {
     "data": {
      "text/plain": [
       "33"
      ]
     },
     "execution_count": 32,
     "metadata": {},
     "output_type": "execute_result"
    }
   ],
   "source": [
    "a //= 3 # The decimal values is removed and the ones value is stored in a after the previous value gets divided by 3\n",
    "a"
   ]
  },
  {
   "cell_type": "code",
   "execution_count": null,
   "id": "0db9937a-fcfb-4683-8061-87251b2d363e",
   "metadata": {},
   "outputs": [],
   "source": []
  }
 ],
 "metadata": {
  "kernelspec": {
   "display_name": "Python 3 (ipykernel)",
   "language": "python",
   "name": "python3"
  },
  "language_info": {
   "codemirror_mode": {
    "name": "ipython",
    "version": 3
   },
   "file_extension": ".py",
   "mimetype": "text/x-python",
   "name": "python",
   "nbconvert_exporter": "python",
   "pygments_lexer": "ipython3",
   "version": "3.9.13"
  }
 },
 "nbformat": 4,
 "nbformat_minor": 5
}
